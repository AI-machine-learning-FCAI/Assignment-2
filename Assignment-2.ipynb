{
 "cells": [
  {
   "cell_type": "code",
   "execution_count": 2,
   "metadata": {},
   "outputs": [],
   "source": [
    "import numpy as np\n",
    "\n",
    "# Step 1: Data Generation\n",
    "np.random.seed(0)  # for reproducibility\n",
    "X1 = np.random.rand(1000)\n",
    "X2 = np.random.rand(1000)\n",
    "X3 = np.random.rand(1000)\n",
    "Y = 5*X1 + 3*X2 + 1.5*X3 + 6\n",
    "\n",
    "# Step 2: Data Splitting\n",
    "from sklearn.model_selection import train_test_split\n",
    "X_train, X_test, Y_train, Y_test = train_test_split(np.column_stack((X1, X2, X3)), Y, test_size=0.2, random_state=42)\n",
    "\n"
   ]
  },
  {
   "cell_type": "code",
   "execution_count": 3,
   "metadata": {},
   "outputs": [
    {
     "name": "stdout",
     "output_type": "stream",
     "text": [
      "Updated Weights: [5.70581818 4.35798497 3.25259451 2.42526552]\n"
     ]
    }
   ],
   "source": [
    "# Step 3: Gradient Descent\n",
    "def gradientDescent(X, Y, weights, LR, iterations):\n",
    "    n_samples, n_features = X.shape\n",
    "    cost_history = np.zeros(iterations)\n",
    "    theta_history = np.zeros((iterations, n_features))\n",
    "    \n",
    "    for i in range(iterations):\n",
    "        Y_pred = np.dot(X, weights)\n",
    "        error = Y_pred - Y\n",
    "        gradient = np.dot(X.T, error) / n_samples\n",
    "        weights -= LR * gradient\n",
    "        cost = np.mean((error)**2)\n",
    "        cost_history[i] = cost\n",
    "        theta_history[i] = weights\n",
    "    \n",
    "    return weights, cost_history, theta_history\n",
    "\n",
    "# Initialize weights\n",
    "weights = np.random.rand(4)\n",
    "\n",
    "X_b = np.column_stack((np.ones(len(X_train)), X_train))  # Add bias term\n",
    "LR = 0.01\n",
    "n_iter = 1000\n",
    "weights, cost_history, theta_history = gradientDescent(X_b, Y_train, weights, LR, n_iter)\n",
    "print(\"Updated Weights:\", weights)"
   ]
  },
  {
   "cell_type": "code",
   "execution_count": 4,
   "metadata": {},
   "outputs": [
    {
     "name": "stdout",
     "output_type": "stream",
     "text": [
      "Loss: 0.11798957617758177\n",
      "Accuracy: 0.10084878193908658\n"
     ]
    }
   ],
   "source": [
    "\n",
    "# Step 4: Loss Function\n",
    "def costFn(weights, X, Y):\n",
    "    Y_pred = np.dot(X, weights)\n",
    "    cost = np.mean((Y_pred - Y)**2)\n",
    "    return cost\n",
    "\n",
    "X_b = np.column_stack((np.ones(len(X_train)), X_train))  # Add bias term\n",
    "cost = costFn(weights, X_b, Y_train)\n",
    "print(\"Loss:\", cost)\n",
    "\n",
    "# Step 5: Accuracy Calculation\n",
    "X_test_b = np.column_stack((np.ones(len(X_test)), X_test))  # Add bias term\n",
    "Y_pred_test = np.dot(X_test_b, weights)\n",
    "accuracy = np.mean((Y_test - Y_pred_test) ** 2)\n",
    "print(\"Accuracy:\", accuracy)"
   ]
  }
 ],
 "metadata": {
  "kernelspec": {
   "display_name": "Python 3",
   "language": "python",
   "name": "python3"
  },
  "language_info": {
   "codemirror_mode": {
    "name": "ipython",
    "version": 3
   },
   "file_extension": ".py",
   "mimetype": "text/x-python",
   "name": "python",
   "nbconvert_exporter": "python",
   "pygments_lexer": "ipython3",
   "version": "3.10.11"
  }
 },
 "nbformat": 4,
 "nbformat_minor": 2
}
